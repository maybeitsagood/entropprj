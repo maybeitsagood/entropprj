{
 "cells": [
  {
   "cell_type": "code",
   "execution_count": 12,
   "id": "ae9bae0d",
   "metadata": {},
   "outputs": [],
   "source": [
    "import numpy as np\n",
    "from scipy.stats import entropy\n",
    "\n",
    "def calculate_entropy(data):\n",
    "    \"\"\"\n",
    "    Calculate min-entropy and Shannon entropy for given data.\n",
    "    \n",
    "    :param data: List or array of probabilities\n",
    "    :return: Tuple of (min_entropy, shannon_entropy)\n",
    "    \"\"\"\n",
    "    data = np.array(data)\n",
    "    \n",
    "    # Ensure data is normalized\n",
    "    data = data / np.sum(data)\n",
    "    \n",
    "    # Calculate min-entropy\n",
    "    min_entropy = -np.log2(np.max(data))\n",
    "    \n",
    "    # Calculate Shannon entropy\n",
    "    shannon_entropy = entropy(data, base=2)\n",
    "    \n",
    "    return min_entropy, shannon_entropy\n",
    "\n",
    "def remove_highest_prob(data):\n",
    "    \"\"\"\n",
    "    Remove the highest probability, redistribute the remaining probabilities,\n",
    "    and recalculate entropies.\n",
    "    \n",
    "    :param data: List or array of probabilities\n",
    "    :return: New min-entropy after removing highest probability\n",
    "    \"\"\"\n",
    "    data = np.array(data)\n",
    "    \n",
    "    # Ensure data is normalized\n",
    "    data = data / np.sum(data)\n",
    "    \n",
    "    # Find and remove the highest probability\n",
    "    max_index = np.argmax(data)\n",
    "    data = np.delete(data, max_index)\n",
    "    \n",
    "    # Redistribute the remaining probabilities\n",
    "    data = data / np.sum(data)\n",
    "        \n",
    "    return calculate_entropy(data)\n"
   ]
  },
  {
   "cell_type": "code",
   "execution_count": 22,
   "id": "8c8ba91f",
   "metadata": {},
   "outputs": [
    {
     "name": "stdout",
     "output_type": "stream",
     "text": [
      "Min-Entropy: 12.276020626670608\n",
      "Shannon Entropy: 13.004426373315221\n"
     ]
    }
   ],
   "source": [
    "#p = np.array([0.595, 0.058, 0.058, 0.058, 0.058, 0.058, 0.058, 0.058])\n",
    "#p = np.array([0.5, 0.25, 0.125, 0.062, 0.062])\n",
    "p = np.random.rand(10000)\n",
    "\n",
    "\n",
    "# Calculate entropies\n",
    "min_entropy, shannon_entropy = calculate_entropy(p)\n",
    "\n",
    "# Print the results\n",
    "print(\"Min-Entropy:\", min_entropy)\n",
    "print(\"Shannon Entropy:\", shannon_entropy)\n"
   ]
  },
  {
   "cell_type": "code",
   "execution_count": 24,
   "id": "f00835dd",
   "metadata": {},
   "outputs": [
    {
     "name": "stdout",
     "output_type": "stream",
     "text": [
      "Min-Entropy: 12.276066614497482\n",
      "Shannon Entropy: 13.004282353306271\n"
     ]
    }
   ],
   "source": [
    "# Calculate entropies\n",
    "new_min, new_shannon = remove_highest_prob(p)\n",
    "\n",
    "# Print the results\n",
    "print(\"Min-Entropy:\", new_min)\n",
    "print(\"Shannon Entropy:\", new_shannon)\n"
   ]
  },
  {
   "cell_type": "code",
   "execution_count": null,
   "id": "de5fc3ab",
   "metadata": {},
   "outputs": [],
   "source": []
  }
 ],
 "metadata": {
  "kernelspec": {
   "display_name": "Python 3 (ipykernel)",
   "language": "python",
   "name": "python3"
  },
  "language_info": {
   "codemirror_mode": {
    "name": "ipython",
    "version": 3
   },
   "file_extension": ".py",
   "mimetype": "text/x-python",
   "name": "python",
   "nbconvert_exporter": "python",
   "pygments_lexer": "ipython3",
   "version": "3.11.5"
  }
 },
 "nbformat": 4,
 "nbformat_minor": 5
}
